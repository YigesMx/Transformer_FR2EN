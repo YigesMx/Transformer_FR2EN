{
 "cells": [
  {
   "cell_type": "code",
   "execution_count": 1,
   "metadata": {},
   "outputs": [],
   "source": [
    "import subprocess\n",
    "import os\n",
    "\n",
    "result = subprocess.run('bash -c \"source /etc/network_turbo && env | grep proxy\"', shell=True, capture_output=True, text=True)\n",
    "output = result.stdout\n",
    "for line in output.splitlines():\n",
    "    if '=' in line:\n",
    "        var, value = line.split('=', 1)\n",
    "        os.environ[var] = value"
   ]
  },
  {
   "cell_type": "code",
   "execution_count": 2,
   "metadata": {},
   "outputs": [],
   "source": [
    "import torch\n",
    "\n",
    "from tokenizer.fr_en_tokenizer import Tokenizer\n",
    "from data.dataset import TranslationDataset, get_dataloader\n",
    "\n",
    "from configs.transformer_512dh8_e6d6 import model_params, train_params, valid_params"
   ]
  },
  {
   "cell_type": "code",
   "execution_count": 10,
   "metadata": {},
   "outputs": [
    {
     "name": "stdout",
     "output_type": "stream",
     "text": [
      "59514\n",
      "0\n",
      "59513\n",
      "1\n",
      "59514\n",
      "0\n",
      "59513\n",
      "1\n"
     ]
    }
   ],
   "source": [
    "# device\n",
    "device = torch.device(\n",
    "    \"cuda\" if torch.cuda.is_available() else (\"mps\" if torch.backends.mps.is_available() else \"cpu\")\n",
    ")\n",
    "\n",
    "# tokenizer\n",
    "warped_tokenizer = Tokenizer(model_params['seq_len'])\n",
    "\n",
    "# src special tokens\n",
    "print(warped_tokenizer.src_tokenizer.bos_token_id)\n",
    "print(warped_tokenizer.src_tokenizer.eos_token_id)\n",
    "print(warped_tokenizer.src_tokenizer.pad_token_id)\n",
    "print(warped_tokenizer.src_tokenizer.unk_token_id)\n",
    "# tgt special tokens\n",
    "print(warped_tokenizer.tgt_tokenizer.bos_token_id)\n",
    "print(warped_tokenizer.tgt_tokenizer.eos_token_id)\n",
    "print(warped_tokenizer.tgt_tokenizer.pad_token_id)\n",
    "print(warped_tokenizer.tgt_tokenizer.unk_token_id)"
   ]
  },
  {
   "cell_type": "code",
   "execution_count": 4,
   "metadata": {},
   "outputs": [
    {
     "name": "stdout",
     "output_type": "stream",
     "text": [
      "Loading train dataset into memory from cache\n",
      "Loaded 232825 samples\n",
      "Loading validation dataset into memory from cache\n",
      "Loaded 890 samples\n"
     ]
    }
   ],
   "source": [
    "# 加载数据\n",
    "train_loader = get_dataloader(\"train\", batch_size=train_params['batch_size'], warped_tokenizer=warped_tokenizer)\n",
    "val_loader = get_dataloader(\"validation\", batch_size=valid_params['batch_size'], warped_tokenizer=warped_tokenizer)"
   ]
  },
  {
   "cell_type": "code",
   "execution_count": 5,
   "metadata": {},
   "outputs": [
    {
     "name": "stdout",
     "output_type": "stream",
     "text": [
      "torch.Size([48, 121]) torch.Size([48, 107])\n"
     ]
    }
   ],
   "source": [
    "# 检查数据\n",
    "for batch in train_loader:\n",
    "    src, tgt = batch\n",
    "    print(src.shape, tgt.shape)\n",
    "    break"
   ]
  },
  {
   "cell_type": "code",
   "execution_count": 6,
   "metadata": {},
   "outputs": [
    {
     "name": "stderr",
     "output_type": "stream",
     "text": [
      "Tokenizing test dataset into memory: 100%|██████████| 8597/8597 [00:03<00:00, 2309.36it/s]\n"
     ]
    },
    {
     "name": "stdout",
     "output_type": "stream",
     "text": [
      "Tokenized 8597 samples\n",
      "Saved test dataset into cachee...\n"
     ]
    }
   ],
   "source": [
    "test_loader = get_dataloader(\"test\", batch_size=valid_params['batch_size'], warped_tokenizer=warped_tokenizer)"
   ]
  },
  {
   "cell_type": "code",
   "execution_count": 8,
   "metadata": {},
   "outputs": [
    {
     "name": "stdout",
     "output_type": "stream",
     "text": [
      "torch.Size([48, 73]) torch.Size([48, 67])\n",
      "48 48\n",
      "Il y a plusieurs années, ici à Ted, Peter Skillman a présenté une épreuve de conception appelée l'épreuve du marshmallow. Several years ago here at TED, Peter Skillman  introduced a design challenge  called the marshmallow challenge.\n",
      "tensor([  104,   167,    15,   652,   655,     2,   769,    17, 32860,     2,\n",
      "         4593, 17072,  5360,   883,    15,  1873,    38, 17651,     5,  3125,\n",
      "        10088,    14,     6, 16980,    22,  1093,   400,  6184,  7642,     3,\n",
      "        59513, 59513, 59513, 59513, 59513, 59513, 59513, 59513, 59513, 59513,\n",
      "        59513, 59513, 59513, 59513, 59513, 59513, 59513, 59513, 59513, 59513,\n",
      "        59513, 59513, 59513, 59513, 59513, 59513, 59513, 59513, 59513, 59513,\n",
      "        59513, 59513, 59513, 59513, 59513, 59513, 59513, 59513, 59513, 59513,\n",
      "        59513, 59513, 59513]) tensor([59514,  7981,   302,  2544,   479,    71,   267,  2735,     2,  4593,\n",
      "        45643,   883,  3378,    15,  1527,  4086,  1381,     4, 38668,   122,\n",
      "        28706,  4086,     3,     0, 59513, 59513, 59513, 59513, 59513, 59513,\n",
      "        59513, 59513, 59513, 59513, 59513, 59513, 59513, 59513, 59513, 59513,\n",
      "        59513, 59513, 59513, 59513, 59513, 59513, 59513, 59513, 59513, 59513,\n",
      "        59513, 59513, 59513, 59513, 59513, 59513, 59513, 59513, 59513, 59513,\n",
      "        59513, 59513, 59513, 59513, 59513, 59513, 59513])\n"
     ]
    }
   ],
   "source": [
    "for batch in test_loader:\n",
    "    src_text, tgt_text, src, tgt = batch\n",
    "    print(src.shape, tgt.shape)\n",
    "    print(len(src_text), len(tgt_text))\n",
    "    print(src_text[0], tgt_text[0])\n",
    "    print(src[0], tgt[0])\n",
    "    break"
   ]
  },
  {
   "cell_type": "code",
   "execution_count": 11,
   "metadata": {},
   "outputs": [],
   "source": [
    "from utils.helper import MaskMaker\n",
    "mask_maker = MaskMaker(warped_tokenizer=warped_tokenizer)"
   ]
  },
  {
   "cell_type": "code",
   "execution_count": 14,
   "metadata": {},
   "outputs": [
    {
     "name": "stdout",
     "output_type": "stream",
     "text": [
      "torch.Size([48, 121]) torch.Size([48, 107])\n",
      "src_mask:  torch.Size([107, 107]) tensor([[0., -inf, -inf,  ..., -inf, -inf, -inf],\n",
      "        [0., 0., -inf,  ..., -inf, -inf, -inf],\n",
      "        [0., 0., 0.,  ..., -inf, -inf, -inf],\n",
      "        ...,\n",
      "        [0., 0., 0.,  ..., 0., -inf, -inf],\n",
      "        [0., 0., 0.,  ..., 0., 0., -inf],\n",
      "        [0., 0., 0.,  ..., 0., 0., 0.]])\n",
      "tgt_mask:  torch.Size([107, 107]) tensor([[0., -inf, -inf,  ..., -inf, -inf, -inf],\n",
      "        [0., 0., -inf,  ..., -inf, -inf, -inf],\n",
      "        [0., 0., 0.,  ..., -inf, -inf, -inf],\n",
      "        ...,\n",
      "        [0., 0., 0.,  ..., 0., -inf, -inf],\n",
      "        [0., 0., 0.,  ..., 0., 0., -inf],\n",
      "        [0., 0., 0.,  ..., 0., 0., 0.]])\n",
      "src_padding_mask:  torch.Size([48, 121]) tensor([False, False, False, False, False, False, False, False, False, False,\n",
      "        False, False, False, False, False, False, False, False, False, False,\n",
      "        False, False, False, False, False, False,  True,  True,  True,  True,\n",
      "         True,  True,  True,  True,  True,  True,  True,  True,  True,  True,\n",
      "         True,  True,  True,  True,  True,  True,  True,  True,  True,  True,\n",
      "         True,  True,  True,  True,  True,  True,  True,  True,  True,  True,\n",
      "         True,  True,  True,  True,  True,  True,  True,  True,  True,  True,\n",
      "         True,  True,  True,  True,  True,  True,  True,  True,  True,  True,\n",
      "         True,  True,  True,  True,  True,  True,  True,  True,  True,  True,\n",
      "         True,  True,  True,  True,  True,  True,  True,  True,  True,  True,\n",
      "         True,  True,  True,  True,  True,  True,  True,  True,  True,  True,\n",
      "         True,  True,  True,  True,  True,  True,  True,  True,  True,  True,\n",
      "         True])\n",
      "tgt_padding_mask:  torch.Size([48, 107]) tensor([False, False, False, False, False, False, False, False, False, False,\n",
      "        False, False, False, False, False, False, False, False, False, False,\n",
      "        False, False, False, False, False, False, False, False, False, False,\n",
      "        False, False, False, False,  True,  True,  True,  True,  True,  True,\n",
      "         True,  True,  True,  True,  True,  True,  True,  True,  True,  True,\n",
      "         True,  True,  True,  True,  True,  True,  True,  True,  True,  True,\n",
      "         True,  True,  True,  True,  True,  True,  True,  True,  True,  True,\n",
      "         True,  True,  True,  True,  True,  True,  True,  True,  True,  True,\n",
      "         True,  True,  True,  True,  True,  True,  True,  True,  True,  True,\n",
      "         True,  True,  True,  True,  True,  True,  True,  True,  True,  True,\n",
      "         True,  True,  True,  True,  True,  True,  True])\n"
     ]
    }
   ],
   "source": [
    "for batch in train_loader:\n",
    "    src, tgt = batch\n",
    "    print(src.shape, tgt.shape)\n",
    "    masks = mask_maker.create_masks(src, tgt)\n",
    "    print(\"src_mask: \", masks['tgt_mask'].shape, masks['tgt_mask'])\n",
    "    print(\"tgt_mask: \", masks['tgt_mask'].shape, masks['tgt_mask'])\n",
    "    print(\"src_padding_mask: \", masks['src_key_padding_mask'].shape, masks['src_key_padding_mask'][0])\n",
    "    print(\"tgt_padding_mask: \", masks['tgt_key_padding_mask'].shape, masks['tgt_key_padding_mask'][0])\n",
    "    break"
   ]
  },
  {
   "cell_type": "code",
   "execution_count": 8,
   "metadata": {},
   "outputs": [
    {
     "name": "stdout",
     "output_type": "stream",
     "text": [
      "0.000698683912937353\n"
     ]
    }
   ],
   "source": [
    "def lr_lambda(iteration): # scheduler used in Attention is All You Need\n",
    "    warmup_steps = 4000\n",
    "    step_num = iteration + 1\n",
    "    arg1 = step_num ** -0.5\n",
    "    arg2 = step_num * (warmup_steps ** -1.5)\n",
    "    lr = (512 ** -0.5) * min(arg1, arg2)\n",
    "    return lr\n",
    "        \n",
    "print(lr_lambda(4000))"
   ]
  },
  {
   "cell_type": "code",
   "execution_count": 9,
   "metadata": {},
   "outputs": [
    {
     "data": {
      "image/png": "[encoded data removed]",
      "text/plain": [
       "<Figure size 640x480 with 1 Axes>"
      ]
     },
     "metadata": {},
     "output_type": "display_data"
    }
   ],
   "source": [
    "import numpy as np\n",
    "import matplotlib.pyplot as plt\n",
    "\n",
    "x = np.arange(1, 100000)\n",
    "y = [lr_lambda(i) for i in x]\n",
    "plt.plot(x, y)\n",
    "plt.show()"
   ]
  },
  {
   "cell_type": "code",
   "execution_count": 12,
   "metadata": {},
   "outputs": [
    {
     "name": "stdout",
     "output_type": "stream",
     "text": [
      "tensor(0.8187)\n"
     ]
    }
   ],
   "source": [
    "import torch\n",
    "\n",
    "def lr_lambda_2(epoch):\n",
    "    warmup_epoch = 6\n",
    "    down = 8\n",
    "    if epoch < warmup_epoch:\n",
    "        return (epoch+1) / (warmup_epoch+1)\n",
    "    elif epoch < down:\n",
    "        return 1\n",
    "    else: \n",
    "        return torch.exp(torch.tensor(-0.2 * (epoch - down))) # 0.1 for more epochs\n",
    "\n",
    "print(lr_lambda_2(9))"
   ]
  },
  {
   "cell_type": "code",
   "execution_count": 13,
   "metadata": {},
   "outputs": [
    {
     "data": {
      "image/png": "[encoded data removed]",
      "text/plain": [
       "<Figure size 640x480 with 1 Axes>"
      ]
     },
     "metadata": {},
     "output_type": "display_data"
    }
   ],
   "source": [
    "import numpy as np\n",
    "import matplotlib.pyplot as plt\n",
    "\n",
    "x = np.arange(1, 20)\n",
    "y = [lr_lambda_2(i) for i in x]\n",
    "plt.plot(x, y)\n",
    "plt.show()"
   ]
  },
  {
   "cell_type": "code",
   "execution_count": null,
   "metadata": {},
   "outputs": [],
   "source": []
  }
 ],
 "metadata": {
  "kernelspec": {
   "display_name": "transformer",
   "language": "python",
   "name": "python3"
  },
  "language_info": {
   "codemirror_mode": {
    "name": "ipython",
    "version": 3
   },
   "file_extension": ".py",
   "mimetype": "text/x-python",
   "name": "python",
   "nbconvert_exporter": "python",
   "pygments_lexer": "ipython3",
   "version": "3.10.14"
  }
 },
 "nbformat": 4,
 "nbformat_minor": 2
}
